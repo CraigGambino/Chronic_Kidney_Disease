{
 "cells": [
  {
   "cell_type": "code",
   "execution_count": 3,
   "metadata": {},
   "outputs": [
    {
     "name": "stderr",
     "output_type": "stream",
     "text": [
      "/home/craig/anaconda3/envs/dsi/lib/python3.6/site-packages/h5py/__init__.py:36: FutureWarning: Conversion of the second argument of issubdtype from `float` to `np.floating` is deprecated. In future, it will be treated as `np.float64 == np.dtype(float).type`.\n",
      "  from ._conv import register_converters as _register_converters\n",
      "Using Theano backend.\n"
     ]
    },
    {
     "name": "stdout",
     "output_type": "stream",
     "text": [
      "Couldn't import dot_parser, loading of dot files will not be possible.\n"
     ]
    },
    {
     "name": "stderr",
     "output_type": "stream",
     "text": [
      "WARNING (theano.tensor.blas): Using NumPy C-API based implementation for BLAS functions.\n"
     ]
    }
   ],
   "source": [
    "import pandas as pd\n",
    "import numpy as np\n",
    "import seaborn as sns\n",
    "import scipy as sp\n",
    "import cleaning_fns as cf\n",
    "import matplotlib.pyplot as plt\n",
    "from sklearn.pipeline import Pipeline\n",
    "from sklearn.preprocessing import StandardScaler\n",
    "from sklearn.linear_model import LogisticRegression\n",
    "from sklearn.model_selection import GridSearchCV, train_test_split\n",
    "from sklearn.metrics import confusion_matrix, classification_report, roc_curve, auc\n",
    "from fancyimpute import MICE\n",
    "import warnings\n",
    "warnings.filterwarnings('ignore')\n",
    "pd.set_option('display.max_columns', None)\n",
    "sns.set_style(\"whitegrid\")"
   ]
  },
  {
   "cell_type": "code",
   "execution_count": 4,
   "metadata": {},
   "outputs": [
    {
     "name": "stdout",
     "output_type": "stream",
     "text": [
      "<class 'pandas.core.frame.DataFrame'>\n",
      "RangeIndex: 400 entries, 0 to 399\n",
      "Data columns (total 25 columns):\n",
      "age      391 non-null float64\n",
      "bp       388 non-null float64\n",
      "sg       353 non-null float64\n",
      "al       354 non-null float64\n",
      "su       351 non-null float64\n",
      "rbc      248 non-null object\n",
      "pc       335 non-null object\n",
      "pcc      396 non-null object\n",
      "ba       396 non-null object\n",
      "bgr      356 non-null float64\n",
      "bu       381 non-null float64\n",
      "sc       383 non-null float64\n",
      "sod      313 non-null float64\n",
      "pot      312 non-null float64\n",
      "hemo     348 non-null float64\n",
      "pcv      329 non-null float64\n",
      "wbcc     294 non-null float64\n",
      "rbcc     269 non-null float64\n",
      "htn      398 non-null object\n",
      "dm       398 non-null object\n",
      "cad      398 non-null object\n",
      "appet    399 non-null object\n",
      "pe       399 non-null object\n",
      "ane      399 non-null object\n",
      "class    400 non-null object\n",
      "dtypes: float64(14), object(11)\n",
      "memory usage: 78.2+ KB\n"
     ]
    }
   ],
   "source": [
    "df = pd.read_csv('ckd.csv')\n",
    "df.info()"
   ]
  },
  {
   "cell_type": "code",
   "execution_count": 6,
   "metadata": {},
   "outputs": [
    {
     "data": {
      "text/html": [
       "<div>\n",
       "<style scoped>\n",
       "    .dataframe tbody tr th:only-of-type {\n",
       "        vertical-align: middle;\n",
       "    }\n",
       "\n",
       "    .dataframe tbody tr th {\n",
       "        vertical-align: top;\n",
       "    }\n",
       "\n",
       "    .dataframe thead th {\n",
       "        text-align: right;\n",
       "    }\n",
       "</style>\n",
       "<table border=\"1\" class=\"dataframe\">\n",
       "  <thead>\n",
       "    <tr style=\"text-align: right;\">\n",
       "      <th></th>\n",
       "      <th>age</th>\n",
       "      <th>bp</th>\n",
       "      <th>sg</th>\n",
       "      <th>al</th>\n",
       "      <th>su</th>\n",
       "      <th>rbc</th>\n",
       "      <th>pc</th>\n",
       "      <th>pcc</th>\n",
       "      <th>ba</th>\n",
       "      <th>bgr</th>\n",
       "      <th>bu</th>\n",
       "      <th>sc</th>\n",
       "      <th>sod</th>\n",
       "      <th>pot</th>\n",
       "      <th>hemo</th>\n",
       "      <th>pcv</th>\n",
       "      <th>wbcc</th>\n",
       "      <th>rbcc</th>\n",
       "      <th>htn</th>\n",
       "      <th>dm</th>\n",
       "      <th>cad</th>\n",
       "      <th>appet</th>\n",
       "      <th>pe</th>\n",
       "      <th>ane</th>\n",
       "      <th>class</th>\n",
       "    </tr>\n",
       "  </thead>\n",
       "  <tbody>\n",
       "    <tr>\n",
       "      <th>0</th>\n",
       "      <td>48.0</td>\n",
       "      <td>80.0</td>\n",
       "      <td>1.020</td>\n",
       "      <td>1.0</td>\n",
       "      <td>0.0</td>\n",
       "      <td>NaN</td>\n",
       "      <td>normal</td>\n",
       "      <td>notpresent</td>\n",
       "      <td>notpresent</td>\n",
       "      <td>121.0</td>\n",
       "      <td>36.0</td>\n",
       "      <td>1.2</td>\n",
       "      <td>NaN</td>\n",
       "      <td>NaN</td>\n",
       "      <td>15.4</td>\n",
       "      <td>44.0</td>\n",
       "      <td>7800.0</td>\n",
       "      <td>5.2</td>\n",
       "      <td>yes</td>\n",
       "      <td>yes</td>\n",
       "      <td>no</td>\n",
       "      <td>good</td>\n",
       "      <td>no</td>\n",
       "      <td>no</td>\n",
       "      <td>ckd</td>\n",
       "    </tr>\n",
       "    <tr>\n",
       "      <th>1</th>\n",
       "      <td>7.0</td>\n",
       "      <td>50.0</td>\n",
       "      <td>1.020</td>\n",
       "      <td>4.0</td>\n",
       "      <td>0.0</td>\n",
       "      <td>NaN</td>\n",
       "      <td>normal</td>\n",
       "      <td>notpresent</td>\n",
       "      <td>notpresent</td>\n",
       "      <td>NaN</td>\n",
       "      <td>18.0</td>\n",
       "      <td>0.8</td>\n",
       "      <td>NaN</td>\n",
       "      <td>NaN</td>\n",
       "      <td>11.3</td>\n",
       "      <td>38.0</td>\n",
       "      <td>6000.0</td>\n",
       "      <td>NaN</td>\n",
       "      <td>no</td>\n",
       "      <td>no</td>\n",
       "      <td>no</td>\n",
       "      <td>good</td>\n",
       "      <td>no</td>\n",
       "      <td>no</td>\n",
       "      <td>ckd</td>\n",
       "    </tr>\n",
       "    <tr>\n",
       "      <th>2</th>\n",
       "      <td>62.0</td>\n",
       "      <td>80.0</td>\n",
       "      <td>1.010</td>\n",
       "      <td>2.0</td>\n",
       "      <td>3.0</td>\n",
       "      <td>normal</td>\n",
       "      <td>normal</td>\n",
       "      <td>notpresent</td>\n",
       "      <td>notpresent</td>\n",
       "      <td>423.0</td>\n",
       "      <td>53.0</td>\n",
       "      <td>1.8</td>\n",
       "      <td>NaN</td>\n",
       "      <td>NaN</td>\n",
       "      <td>9.6</td>\n",
       "      <td>31.0</td>\n",
       "      <td>7500.0</td>\n",
       "      <td>NaN</td>\n",
       "      <td>no</td>\n",
       "      <td>yes</td>\n",
       "      <td>no</td>\n",
       "      <td>poor</td>\n",
       "      <td>no</td>\n",
       "      <td>yes</td>\n",
       "      <td>ckd</td>\n",
       "    </tr>\n",
       "    <tr>\n",
       "      <th>3</th>\n",
       "      <td>48.0</td>\n",
       "      <td>70.0</td>\n",
       "      <td>1.005</td>\n",
       "      <td>4.0</td>\n",
       "      <td>0.0</td>\n",
       "      <td>normal</td>\n",
       "      <td>abnormal</td>\n",
       "      <td>present</td>\n",
       "      <td>notpresent</td>\n",
       "      <td>117.0</td>\n",
       "      <td>56.0</td>\n",
       "      <td>3.8</td>\n",
       "      <td>111.0</td>\n",
       "      <td>2.5</td>\n",
       "      <td>11.2</td>\n",
       "      <td>32.0</td>\n",
       "      <td>6700.0</td>\n",
       "      <td>3.9</td>\n",
       "      <td>yes</td>\n",
       "      <td>no</td>\n",
       "      <td>no</td>\n",
       "      <td>poor</td>\n",
       "      <td>yes</td>\n",
       "      <td>yes</td>\n",
       "      <td>ckd</td>\n",
       "    </tr>\n",
       "    <tr>\n",
       "      <th>4</th>\n",
       "      <td>51.0</td>\n",
       "      <td>80.0</td>\n",
       "      <td>1.010</td>\n",
       "      <td>2.0</td>\n",
       "      <td>0.0</td>\n",
       "      <td>normal</td>\n",
       "      <td>normal</td>\n",
       "      <td>notpresent</td>\n",
       "      <td>notpresent</td>\n",
       "      <td>106.0</td>\n",
       "      <td>26.0</td>\n",
       "      <td>1.4</td>\n",
       "      <td>NaN</td>\n",
       "      <td>NaN</td>\n",
       "      <td>11.6</td>\n",
       "      <td>35.0</td>\n",
       "      <td>7300.0</td>\n",
       "      <td>4.6</td>\n",
       "      <td>no</td>\n",
       "      <td>no</td>\n",
       "      <td>no</td>\n",
       "      <td>good</td>\n",
       "      <td>no</td>\n",
       "      <td>no</td>\n",
       "      <td>ckd</td>\n",
       "    </tr>\n",
       "  </tbody>\n",
       "</table>\n",
       "</div>"
      ],
      "text/plain": [
       "    age    bp     sg   al   su     rbc        pc         pcc          ba  \\\n",
       "0  48.0  80.0  1.020  1.0  0.0     NaN    normal  notpresent  notpresent   \n",
       "1   7.0  50.0  1.020  4.0  0.0     NaN    normal  notpresent  notpresent   \n",
       "2  62.0  80.0  1.010  2.0  3.0  normal    normal  notpresent  notpresent   \n",
       "3  48.0  70.0  1.005  4.0  0.0  normal  abnormal     present  notpresent   \n",
       "4  51.0  80.0  1.010  2.0  0.0  normal    normal  notpresent  notpresent   \n",
       "\n",
       "     bgr    bu   sc    sod  pot  hemo   pcv    wbcc  rbcc  htn   dm cad appet  \\\n",
       "0  121.0  36.0  1.2    NaN  NaN  15.4  44.0  7800.0   5.2  yes  yes  no  good   \n",
       "1    NaN  18.0  0.8    NaN  NaN  11.3  38.0  6000.0   NaN   no   no  no  good   \n",
       "2  423.0  53.0  1.8    NaN  NaN   9.6  31.0  7500.0   NaN   no  yes  no  poor   \n",
       "3  117.0  56.0  3.8  111.0  2.5  11.2  32.0  6700.0   3.9  yes   no  no  poor   \n",
       "4  106.0  26.0  1.4    NaN  NaN  11.6  35.0  7300.0   4.6   no   no  no  good   \n",
       "\n",
       "    pe  ane class  \n",
       "0   no   no   ckd  \n",
       "1   no   no   ckd  \n",
       "2   no  yes   ckd  \n",
       "3  yes  yes   ckd  \n",
       "4   no   no   ckd  "
      ]
     },
     "execution_count": 6,
     "metadata": {},
     "output_type": "execute_result"
    }
   ],
   "source": [
    "df.head()"
   ]
  },
  {
   "cell_type": "markdown",
   "metadata": {},
   "source": [
    "Clean the data."
   ]
  },
  {
   "cell_type": "code",
   "execution_count": 7,
   "metadata": {},
   "outputs": [],
   "source": [
    "names = {'age':'age',\n",
    "'bp':'blood_pressure',\n",
    "'sg':'specific_gravity',\n",
    "'al':'albumin',\n",
    "'su':'sugar',\n",
    "'rbc':'red_blood_cells',\n",
    "'pc':'pus_cell',\n",
    "'pcc':'pus_cell_clumps',\n",
    "'ba':'bacteria',\n",
    "'bgr':'blood_glucose_random',\n",
    "'bu':'blood_urea',\n",
    "'sc':'serum_creatinine',\n",
    "'sod':'sodium',\n",
    "'pot':'potassium',\n",
    "'hemo':'hemoglobin',\n",
    "'pcv':'packed_cell_volume',\n",
    "'wc':'white_blood_cell_count',\n",
    "'rc':'red_blood_cell_count',\n",
    "'htn':'hypertension',\n",
    "'dm':'diabetes_mellitus',\n",
    "'cad':'coronary_artery_disease',\n",
    "'appet':'appetite',\n",
    "'pe':'pedal_edema',\n",
    "'ane':'anemia',\n",
    "'class':'class'}"
   ]
  },
  {
   "cell_type": "code",
   "execution_count": 8,
   "metadata": {},
   "outputs": [],
   "source": [
    "df.rename(columns=names, inplace=True) "
   ]
  },
  {
   "cell_type": "code",
   "execution_count": 9,
   "metadata": {},
   "outputs": [
    {
     "data": {
      "text/plain": [
       "Index(['age', 'blood_pressure', 'specific_gravity', 'albumin', 'sugar',\n",
       "       'red_blood_cells', 'pus_cell', 'pus_cell_clumps', 'bacteria',\n",
       "       'blood_glucose_random', 'blood_urea', 'serum_creatinine', 'sodium',\n",
       "       'potassium', 'hemoglobin', 'packed_cell_volume', 'wbcc', 'rbcc',\n",
       "       'hypertension', 'diabetes_mellitus', 'coronary_artery_disease',\n",
       "       'appetite', 'pedal_edema', 'anemia', 'class'],\n",
       "      dtype='object')"
      ]
     },
     "execution_count": 9,
     "metadata": {},
     "output_type": "execute_result"
    }
   ],
   "source": [
    "df.columns"
   ]
  },
  {
   "cell_type": "code",
   "execution_count": 11,
   "metadata": {},
   "outputs": [
    {
     "data": {
      "text/plain": [
       "age                        0.0225\n",
       "blood_pressure             0.0300\n",
       "specific_gravity           0.1175\n",
       "albumin                    0.1150\n",
       "sugar                      0.1225\n",
       "red_blood_cells            0.3800\n",
       "pus_cell                   0.1625\n",
       "pus_cell_clumps            0.0100\n",
       "bacteria                   0.0100\n",
       "blood_glucose_random       0.1100\n",
       "blood_urea                 0.0475\n",
       "serum_creatinine           0.0425\n",
       "sodium                     0.2175\n",
       "potassium                  0.2200\n",
       "hemoglobin                 0.1300\n",
       "packed_cell_volume         0.1775\n",
       "wbcc                       0.2650\n",
       "rbcc                       0.3275\n",
       "hypertension               0.0050\n",
       "diabetes_mellitus          0.0050\n",
       "coronary_artery_disease    0.0050\n",
       "appetite                   0.0025\n",
       "pedal_edema                0.0025\n",
       "anemia                     0.0025\n",
       "class                      0.0000\n",
       "dtype: float64"
      ]
     },
     "execution_count": 11,
     "metadata": {},
     "output_type": "execute_result"
    }
   ],
   "source": [
    "df.isnull().mean()"
   ]
  },
  {
   "cell_type": "code",
   "execution_count": 12,
   "metadata": {},
   "outputs": [
    {
     "data": {
      "text/plain": [
       "['specific_gravity',\n",
       " 'albumin',\n",
       " 'sugar',\n",
       " 'red_blood_cells',\n",
       " 'pus_cell',\n",
       " 'blood_glucose_random',\n",
       " 'sodium',\n",
       " 'potassium',\n",
       " 'hemoglobin',\n",
       " 'packed_cell_volume',\n",
       " 'wbcc',\n",
       " 'rbcc']"
      ]
     },
     "execution_count": 12,
     "metadata": {},
     "output_type": "execute_result"
    }
   ],
   "source": [
    "cf.get_bad_columns(df, 0.10) # columns with 10% or more missing data"
   ]
  },
  {
   "cell_type": "code",
   "execution_count": 15,
   "metadata": {},
   "outputs": [],
   "source": [
    "df.drop(cf.get_bad_columns(df, 0.10), axis=1, inplace=True)"
   ]
  },
  {
   "cell_type": "code",
   "execution_count": 33,
   "metadata": {},
   "outputs": [],
   "source": [
    "df.dropna(thresh=df.shape[1]-1, axis=0, inplace=True) # remove rows with two or more missing values\n",
    "df.index = list(range(df.shape[0]))"
   ]
  },
  {
   "cell_type": "code",
   "execution_count": 34,
   "metadata": {},
   "outputs": [
    {
     "data": {
      "text/plain": [
       "age                        9\n",
       "blood_pressure             9\n",
       "pus_cell_clumps            0\n",
       "bacteria                   0\n",
       "blood_urea                 3\n",
       "serum_creatinine           1\n",
       "hypertension               0\n",
       "diabetes_mellitus          0\n",
       "coronary_artery_disease    0\n",
       "appetite                   0\n",
       "pedal_edema                0\n",
       "anemia                     0\n",
       "class                      0\n",
       "dtype: int64"
      ]
     },
     "execution_count": 34,
     "metadata": {},
     "output_type": "execute_result"
    }
   ],
   "source": [
    "df.isnull().sum()"
   ]
  },
  {
   "cell_type": "markdown",
   "metadata": {},
   "source": [
    "Now impute the remaining missing numerical values by multiple imputation by chained equations."
   ]
  },
  {
   "cell_type": "code",
   "execution_count": 35,
   "metadata": {},
   "outputs": [
    {
     "name": "stdout",
     "output_type": "stream",
     "text": [
      "[MICE] Completing matrix with shape (377, 4)\n",
      "[MICE] Starting imputation round 1/110, elapsed time 0.000\n",
      "[MICE] Starting imputation round 2/110, elapsed time 0.003\n",
      "[MICE] Starting imputation round 3/110, elapsed time 0.016\n",
      "[MICE] Starting imputation round 4/110, elapsed time 0.017\n",
      "[MICE] Starting imputation round 5/110, elapsed time 0.018\n",
      "[MICE] Starting imputation round 6/110, elapsed time 0.019\n",
      "[MICE] Starting imputation round 7/110, elapsed time 0.020\n",
      "[MICE] Starting imputation round 8/110, elapsed time 0.020\n",
      "[MICE] Starting imputation round 9/110, elapsed time 0.021\n",
      "[MICE] Starting imputation round 10/110, elapsed time 0.022\n",
      "[MICE] Starting imputation round 11/110, elapsed time 0.024\n",
      "[MICE] Starting imputation round 12/110, elapsed time 0.025\n",
      "[MICE] Starting imputation round 13/110, elapsed time 0.026\n",
      "[MICE] Starting imputation round 14/110, elapsed time 0.027\n",
      "[MICE] Starting imputation round 15/110, elapsed time 0.028\n",
      "[MICE] Starting imputation round 16/110, elapsed time 0.029\n",
      "[MICE] Starting imputation round 17/110, elapsed time 0.030\n",
      "[MICE] Starting imputation round 18/110, elapsed time 0.030\n",
      "[MICE] Starting imputation round 19/110, elapsed time 0.031\n",
      "[MICE] Starting imputation round 20/110, elapsed time 0.032\n",
      "[MICE] Starting imputation round 21/110, elapsed time 0.033\n",
      "[MICE] Starting imputation round 22/110, elapsed time 0.034\n",
      "[MICE] Starting imputation round 23/110, elapsed time 0.035\n",
      "[MICE] Starting imputation round 24/110, elapsed time 0.035\n",
      "[MICE] Starting imputation round 25/110, elapsed time 0.036\n",
      "[MICE] Starting imputation round 26/110, elapsed time 0.037\n",
      "[MICE] Starting imputation round 27/110, elapsed time 0.038\n",
      "[MICE] Starting imputation round 28/110, elapsed time 0.039\n",
      "[MICE] Starting imputation round 29/110, elapsed time 0.040\n",
      "[MICE] Starting imputation round 30/110, elapsed time 0.042\n",
      "[MICE] Starting imputation round 31/110, elapsed time 0.043\n",
      "[MICE] Starting imputation round 32/110, elapsed time 0.043\n",
      "[MICE] Starting imputation round 33/110, elapsed time 0.044\n",
      "[MICE] Starting imputation round 34/110, elapsed time 0.045\n",
      "[MICE] Starting imputation round 35/110, elapsed time 0.046\n",
      "[MICE] Starting imputation round 36/110, elapsed time 0.047\n",
      "[MICE] Starting imputation round 37/110, elapsed time 0.048\n",
      "[MICE] Starting imputation round 38/110, elapsed time 0.049\n",
      "[MICE] Starting imputation round 39/110, elapsed time 0.050\n",
      "[MICE] Starting imputation round 40/110, elapsed time 0.051\n",
      "[MICE] Starting imputation round 41/110, elapsed time 0.052\n",
      "[MICE] Starting imputation round 42/110, elapsed time 0.053\n",
      "[MICE] Starting imputation round 43/110, elapsed time 0.053\n",
      "[MICE] Starting imputation round 44/110, elapsed time 0.054\n",
      "[MICE] Starting imputation round 45/110, elapsed time 0.055\n",
      "[MICE] Starting imputation round 46/110, elapsed time 0.056\n",
      "[MICE] Starting imputation round 47/110, elapsed time 0.057\n",
      "[MICE] Starting imputation round 48/110, elapsed time 0.058\n",
      "[MICE] Starting imputation round 49/110, elapsed time 0.059\n",
      "[MICE] Starting imputation round 50/110, elapsed time 0.060\n",
      "[MICE] Starting imputation round 51/110, elapsed time 0.061\n",
      "[MICE] Starting imputation round 52/110, elapsed time 0.062\n",
      "[MICE] Starting imputation round 53/110, elapsed time 0.063\n",
      "[MICE] Starting imputation round 54/110, elapsed time 0.064\n",
      "[MICE] Starting imputation round 55/110, elapsed time 0.065\n",
      "[MICE] Starting imputation round 56/110, elapsed time 0.065\n",
      "[MICE] Starting imputation round 57/110, elapsed time 0.066\n",
      "[MICE] Starting imputation round 58/110, elapsed time 0.067\n",
      "[MICE] Starting imputation round 59/110, elapsed time 0.068\n",
      "[MICE] Starting imputation round 60/110, elapsed time 0.069\n",
      "[MICE] Starting imputation round 61/110, elapsed time 0.070\n",
      "[MICE] Starting imputation round 62/110, elapsed time 0.071\n",
      "[MICE] Starting imputation round 63/110, elapsed time 0.072\n",
      "[MICE] Starting imputation round 64/110, elapsed time 0.073\n",
      "[MICE] Starting imputation round 65/110, elapsed time 0.074\n",
      "[MICE] Starting imputation round 66/110, elapsed time 0.075\n",
      "[MICE] Starting imputation round 67/110, elapsed time 0.075\n",
      "[MICE] Starting imputation round 68/110, elapsed time 0.076\n",
      "[MICE] Starting imputation round 69/110, elapsed time 0.077\n",
      "[MICE] Starting imputation round 70/110, elapsed time 0.078\n",
      "[MICE] Starting imputation round 71/110, elapsed time 0.079\n",
      "[MICE] Starting imputation round 72/110, elapsed time 0.080\n",
      "[MICE] Starting imputation round 73/110, elapsed time 0.081\n",
      "[MICE] Starting imputation round 74/110, elapsed time 0.082\n",
      "[MICE] Starting imputation round 75/110, elapsed time 0.083\n",
      "[MICE] Starting imputation round 76/110, elapsed time 0.084\n",
      "[MICE] Starting imputation round 77/110, elapsed time 0.085\n",
      "[MICE] Starting imputation round 78/110, elapsed time 0.086\n",
      "[MICE] Starting imputation round 79/110, elapsed time 0.087\n",
      "[MICE] Starting imputation round 80/110, elapsed time 0.088\n",
      "[MICE] Starting imputation round 81/110, elapsed time 0.089\n",
      "[MICE] Starting imputation round 82/110, elapsed time 0.090\n",
      "[MICE] Starting imputation round 83/110, elapsed time 0.090\n",
      "[MICE] Starting imputation round 84/110, elapsed time 0.091\n",
      "[MICE] Starting imputation round 85/110, elapsed time 0.092\n",
      "[MICE] Starting imputation round 86/110, elapsed time 0.093\n",
      "[MICE] Starting imputation round 87/110, elapsed time 0.094\n",
      "[MICE] Starting imputation round 88/110, elapsed time 0.095\n",
      "[MICE] Starting imputation round 89/110, elapsed time 0.096\n",
      "[MICE] Starting imputation round 90/110, elapsed time 0.097\n",
      "[MICE] Starting imputation round 91/110, elapsed time 0.098\n",
      "[MICE] Starting imputation round 92/110, elapsed time 0.099\n",
      "[MICE] Starting imputation round 93/110, elapsed time 0.100\n",
      "[MICE] Starting imputation round 94/110, elapsed time 0.101\n",
      "[MICE] Starting imputation round 95/110, elapsed time 0.102\n",
      "[MICE] Starting imputation round 96/110, elapsed time 0.102\n",
      "[MICE] Starting imputation round 97/110, elapsed time 0.103\n",
      "[MICE] Starting imputation round 98/110, elapsed time 0.104\n",
      "[MICE] Starting imputation round 99/110, elapsed time 0.105\n",
      "[MICE] Starting imputation round 100/110, elapsed time 0.106\n",
      "[MICE] Starting imputation round 101/110, elapsed time 0.107\n",
      "[MICE] Starting imputation round 102/110, elapsed time 0.107\n",
      "[MICE] Starting imputation round 103/110, elapsed time 0.108\n",
      "[MICE] Starting imputation round 104/110, elapsed time 0.109\n",
      "[MICE] Starting imputation round 105/110, elapsed time 0.110\n",
      "[MICE] Starting imputation round 106/110, elapsed time 0.111\n",
      "[MICE] Starting imputation round 107/110, elapsed time 0.112\n",
      "[MICE] Starting imputation round 108/110, elapsed time 0.112\n",
      "[MICE] Starting imputation round 109/110, elapsed time 0.113\n",
      "[MICE] Starting imputation round 110/110, elapsed time 0.114\n"
     ]
    }
   ],
   "source": [
    "numeric = df.select_dtypes(exclude='object')\n",
    "complete = MICE().complete(numeric)"
   ]
  },
  {
   "cell_type": "code",
   "execution_count": 36,
   "metadata": {},
   "outputs": [],
   "source": [
    "complete_numeric = pd.DataFrame(complete, columns=numeric.columns, index=numeric.index)"
   ]
  },
  {
   "cell_type": "markdown",
   "metadata": {},
   "source": [
    "Convert the catgorical variables to indicator variables."
   ]
  },
  {
   "cell_type": "code",
   "execution_count": 37,
   "metadata": {},
   "outputs": [],
   "source": [
    "categoricals = df.select_dtypes(include='object').columns.tolist()\n",
    "categoricals.remove('class')"
   ]
  },
  {
   "cell_type": "code",
   "execution_count": 38,
   "metadata": {},
   "outputs": [],
   "source": [
    "dumcat = pd.get_dummies(df[categoricals], drop_first=True)"
   ]
  },
  {
   "cell_type": "code",
   "execution_count": 39,
   "metadata": {},
   "outputs": [],
   "source": [
    "groom_df = pd.concat([complete_numeric, dumcat], axis=1)"
   ]
  },
  {
   "cell_type": "markdown",
   "metadata": {},
   "source": [
    "Construct a logistic regression."
   ]
  },
  {
   "cell_type": "code",
   "execution_count": 42,
   "metadata": {},
   "outputs": [
    {
     "name": "stdout",
     "output_type": "stream",
     "text": [
      "0.9246031746031746\n",
      "{'logger__C': 10.312258501325761, 'logger__class_weight': 'balanced', 'logger__penalty': 'l1'}\n"
     ]
    }
   ],
   "source": [
    "X, y = groom_df, df['class']\n",
    "X_train, X_test, y_train, y_test = train_test_split(X, y, stratify=y, test_size=0.33)\n",
    "\n",
    "ss = StandardScaler()\n",
    "logger = LogisticRegression()\n",
    "log_pipe = Pipeline([\n",
    "    ('ss', ss),\n",
    "    ('logger', logger)\n",
    "])\n",
    "\n",
    "params = {\n",
    "    'logger__penalty': ['l1', 'l2'],\n",
    "    'logger__C': np.logspace(0, 2.5, num=16, base=np.e),\n",
    "    'logger__class_weight': ['balanced']\n",
    "}\n",
    "gs = GridSearchCV(estimator=log_pipe, param_grid=params)\n",
    "gs.fit(X_train, y_train)\n",
    "\n",
    "print(gs.best_score_)\n",
    "print(gs.best_params_)"
   ]
  },
  {
   "cell_type": "code",
   "execution_count": 43,
   "metadata": {},
   "outputs": [],
   "source": [
    "lrmod = LogisticRegression(penalty=gs.best_params_['logger__penalty'],\n",
    "                           C=gs.best_params_['logger__C'],\n",
    "                           class_weight='balanced')"
   ]
  },
  {
   "cell_type": "code",
   "execution_count": 44,
   "metadata": {},
   "outputs": [
    {
     "data": {
      "text/plain": [
       "LogisticRegression(C=10.312258501325761, class_weight='balanced', dual=False,\n",
       "          fit_intercept=True, intercept_scaling=1, max_iter=100,\n",
       "          multi_class='ovr', n_jobs=1, penalty='l1', random_state=None,\n",
       "          solver='liblinear', tol=0.0001, verbose=0, warm_start=False)"
      ]
     },
     "execution_count": 44,
     "metadata": {},
     "output_type": "execute_result"
    }
   ],
   "source": [
    "X_center = X_train - X_train.mean()\n",
    "lrmod.fit(X_train, y_train)"
   ]
  },
  {
   "cell_type": "code",
   "execution_count": 45,
   "metadata": {},
   "outputs": [
    {
     "data": {
      "text/html": [
       "<div>\n",
       "<style scoped>\n",
       "    .dataframe tbody tr th:only-of-type {\n",
       "        vertical-align: middle;\n",
       "    }\n",
       "\n",
       "    .dataframe tbody tr th {\n",
       "        vertical-align: top;\n",
       "    }\n",
       "\n",
       "    .dataframe thead th {\n",
       "        text-align: right;\n",
       "    }\n",
       "</style>\n",
       "<table border=\"1\" class=\"dataframe\">\n",
       "  <thead>\n",
       "    <tr style=\"text-align: right;\">\n",
       "      <th></th>\n",
       "      <th>Condition</th>\n",
       "      <th>Coefficient</th>\n",
       "    </tr>\n",
       "  </thead>\n",
       "  <tbody>\n",
       "    <tr>\n",
       "      <th>0</th>\n",
       "      <td>intercept</td>\n",
       "      <td>4.065080</td>\n",
       "    </tr>\n",
       "    <tr>\n",
       "      <th>1</th>\n",
       "      <td>age</td>\n",
       "      <td>0.041740</td>\n",
       "    </tr>\n",
       "    <tr>\n",
       "      <th>2</th>\n",
       "      <td>blood_pressure</td>\n",
       "      <td>-0.023921</td>\n",
       "    </tr>\n",
       "    <tr>\n",
       "      <th>3</th>\n",
       "      <td>blood_urea</td>\n",
       "      <td>0.043750</td>\n",
       "    </tr>\n",
       "    <tr>\n",
       "      <th>4</th>\n",
       "      <td>serum_creatinine</td>\n",
       "      <td>-3.341277</td>\n",
       "    </tr>\n",
       "    <tr>\n",
       "      <th>5</th>\n",
       "      <td>pus_cell_clumps_present</td>\n",
       "      <td>-2.833077</td>\n",
       "    </tr>\n",
       "    <tr>\n",
       "      <th>6</th>\n",
       "      <td>bacteria_present</td>\n",
       "      <td>-0.192829</td>\n",
       "    </tr>\n",
       "    <tr>\n",
       "      <th>7</th>\n",
       "      <td>hypertension_yes</td>\n",
       "      <td>-3.628797</td>\n",
       "    </tr>\n",
       "    <tr>\n",
       "      <th>8</th>\n",
       "      <td>diabetes_mellitus_yes</td>\n",
       "      <td>-5.737790</td>\n",
       "    </tr>\n",
       "    <tr>\n",
       "      <th>9</th>\n",
       "      <td>coronary_artery_disease_yes</td>\n",
       "      <td>0.000000</td>\n",
       "    </tr>\n",
       "    <tr>\n",
       "      <th>10</th>\n",
       "      <td>appetite_poor</td>\n",
       "      <td>-4.979406</td>\n",
       "    </tr>\n",
       "    <tr>\n",
       "      <th>11</th>\n",
       "      <td>pedal_edema_yes</td>\n",
       "      <td>-6.044081</td>\n",
       "    </tr>\n",
       "    <tr>\n",
       "      <th>12</th>\n",
       "      <td>anemia_yes</td>\n",
       "      <td>-4.580034</td>\n",
       "    </tr>\n",
       "  </tbody>\n",
       "</table>\n",
       "</div>"
      ],
      "text/plain": [
       "                      Condition  Coefficient\n",
       "0                     intercept     4.065080\n",
       "1                           age     0.041740\n",
       "2                blood_pressure    -0.023921\n",
       "3                    blood_urea     0.043750\n",
       "4              serum_creatinine    -3.341277\n",
       "5       pus_cell_clumps_present    -2.833077\n",
       "6              bacteria_present    -0.192829\n",
       "7              hypertension_yes    -3.628797\n",
       "8         diabetes_mellitus_yes    -5.737790\n",
       "9   coronary_artery_disease_yes     0.000000\n",
       "10                appetite_poor    -4.979406\n",
       "11              pedal_edema_yes    -6.044081\n",
       "12                   anemia_yes    -4.580034"
      ]
     },
     "execution_count": 45,
     "metadata": {},
     "output_type": "execute_result"
    }
   ],
   "source": [
    "condition = groom_df.columns.tolist()\n",
    "condition.insert(0, 'intercept')\n",
    "\n",
    "beta = lrmod.coef_[0].tolist()\n",
    "beta.insert(0, lrmod.intercept_[0])\n",
    "\n",
    "coef_list = list(zip(condition, beta )) \n",
    "\n",
    "coeframe = pd.DataFrame(coef_list, columns=['Condition', 'Coefficient'])\n",
    "coeframe"
   ]
  },
  {
   "cell_type": "markdown",
   "metadata": {},
   "source": [
    "Demonstrate Results"
   ]
  },
  {
   "cell_type": "code",
   "execution_count": 46,
   "metadata": {},
   "outputs": [],
   "source": [
    "y_hat = lrmod.predict(X_test)\n",
    "\n",
    "cm = confusion_matrix(y_test, y_hat, labels=['ckd', 'notckd'])"
   ]
  },
  {
   "cell_type": "code",
   "execution_count": 55,
   "metadata": {},
   "outputs": [
    {
     "data": {
      "image/png": "[encoded data removed]",
      "text/plain": [
       "<matplotlib.figure.Figure at 0x7f13286e0c88>"
      ]
     },
     "metadata": {},
     "output_type": "display_data"
    }
   ],
   "source": [
    "sns.set_context(context='notebook', font_scale=1.5)\n",
    "ax= plt.subplot()\n",
    "sns.heatmap(cm, annot=True, ax = ax, cmap='RdBu', cbar=False)\n",
    "ax.set_xlabel('Predicted')\n",
    "ax.set_ylabel('Actual')\n",
    "ax.set_title('Confusion Matrix')\n",
    "ax.xaxis.set_ticklabels(['CKD', 'Not CKD'])\n",
    "ax.yaxis.set_ticklabels(['Not CKD', 'CKD'])\n",
    "plt.show()"
   ]
  },
  {
   "cell_type": "code",
   "execution_count": 48,
   "metadata": {},
   "outputs": [
    {
     "name": "stdout",
     "output_type": "stream",
     "text": [
      "             precision    recall  f1-score   support\n",
      "\n",
      "        ckd       1.00      0.95      0.97        79\n",
      "     notckd       0.92      1.00      0.96        46\n",
      "\n",
      "avg / total       0.97      0.97      0.97       125\n",
      "\n"
     ]
    }
   ],
   "source": [
    "print(classification_report(y_test, y_hat))"
   ]
  },
  {
   "cell_type": "code",
   "execution_count": 49,
   "metadata": {},
   "outputs": [
    {
     "data": {
      "text/plain": [
       "0.992570170610897"
      ]
     },
     "execution_count": 49,
     "metadata": {},
     "output_type": "execute_result"
    }
   ],
   "source": [
    "y_score = lrmod.decision_function(X_test)\n",
    "\n",
    "fpr, tpr, thresholds = roc_curve(y_test, y_score, pos_label='ckd')\n",
    "area = auc(tpr, fpr)\n",
    "area"
   ]
  },
  {
   "cell_type": "code",
   "execution_count": 50,
   "metadata": {},
   "outputs": [
    {
     "data": {
      "image/png": "[encoded data removed]",
      "text/plain": [
       "<matplotlib.figure.Figure at 0x7f12f912b898>"
      ]
     },
     "metadata": {},
     "output_type": "display_data"
    }
   ],
   "source": [
    "plt.figure(figsize=(8,6))\n",
    "lw=2\n",
    "plt.plot(tpr, fpr, color='darkorange',\n",
    "         lw=lw, label='ROC curve (area = %0.2f)' % area)\n",
    "plt.plot([0, 1], [0, 1], color='navy', lw=lw, linestyle='--')\n",
    "plt.xlim([0.0, 1.0])\n",
    "plt.ylim([0.0, 1.05])\n",
    "plt.xlabel('False Positive Rate')\n",
    "plt.ylabel('True Positive Rate')\n",
    "plt.title('Receiver Operating Characteristic')\n",
    "plt.legend(loc=\"lower right\")\n",
    "plt.show()"
   ]
  }
 ],
 "metadata": {
  "kernelspec": {
   "display_name": "Python [conda env:dsi]",
   "language": "python",
   "name": "conda-env-dsi-py"
  },
  "language_info": {
   "codemirror_mode": {
    "name": "ipython",
    "version": 3
   },
   "file_extension": ".py",
   "mimetype": "text/x-python",
   "name": "python",
   "nbconvert_exporter": "python",
   "pygments_lexer": "ipython3",
   "version": "3.6.4"
  }
 },
 "nbformat": 4,
 "nbformat_minor": 2
}
